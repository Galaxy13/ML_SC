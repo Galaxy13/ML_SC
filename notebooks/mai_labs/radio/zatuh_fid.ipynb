{
 "cells": [
  {
   "cell_type": "code",
   "execution_count": 1,
   "metadata": {
    "collapsed": true
   },
   "outputs": [
    {
     "name": "stdout",
     "output_type": "stream",
     "text": [
      "0.0015110439782495006\n"
     ]
    }
   ],
   "source": [
    "import math\n",
    "prov = 6.25 * 10 ** 7\n",
    "a = 0.305\n",
    "b = 0.152\n",
    "d = 0.435\n",
    "\n",
    "count = 0.793 * (1 + (2 * b * d ** 2) / (4 * a ** 3)) / (b * math.sqrt(prov * d * (1 - (d/ 2 * a)**2)))\n",
    "\n",
    "\n",
    "print(count)"
   ]
  }
 ],
 "metadata": {
  "kernelspec": {
   "name": "pycharm-3aaaba9b",
   "language": "python",
   "display_name": "PyCharm (UDEMY_ML_NEW)"
  },
  "language_info": {
   "codemirror_mode": {
    "name": "ipython",
    "version": 2
   },
   "file_extension": ".py",
   "mimetype": "text/x-python",
   "name": "python",
   "nbconvert_exporter": "python",
   "pygments_lexer": "ipython2",
   "version": "2.7.6"
  }
 },
 "nbformat": 4,
 "nbformat_minor": 0
}