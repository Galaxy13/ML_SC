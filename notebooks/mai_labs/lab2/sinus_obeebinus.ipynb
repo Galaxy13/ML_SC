{
 "cells": [
  {
   "cell_type": "code",
   "execution_count": 2,
   "metadata": {
    "collapsed": true
   },
   "outputs": [],
   "source": [
    "import numpy as np\n",
    "import pandas as pd\n",
    "import matplotlib.pyplot as plt\n",
    "import seaborn as sns\n",
    "import math"
   ]
  },
  {
   "cell_type": "code",
   "execution_count": 3,
   "outputs": [],
   "source": [
    "const = 0\n",
    "amp = 1\n",
    "def func(x):\n",
    "    return const + amp * math.sin(x)"
   ],
   "metadata": {
    "collapsed": false,
    "pycharm": {
     "name": "#%%\n"
    }
   }
  },
  {
   "cell_type": "code",
   "execution_count": 4,
   "outputs": [],
   "source": [
    "l1 = np.linspace(-np.pi, np.pi, 100, endpoint=True)"
   ],
   "metadata": {
    "collapsed": false,
    "pycharm": {
     "name": "#%%\n"
    }
   }
  },
  {
   "cell_type": "code",
   "execution_count": 5,
   "outputs": [
    {
     "data": {
      "text/plain": "           x             y\n0  -3.141593 -1.224647e-16\n1  -3.078126 -6.342392e-02\n2  -3.014660 -1.265925e-01\n3  -2.951193 -1.892512e-01\n4  -2.887727 -2.511480e-01\n..       ...           ...\n95  2.887727  2.511480e-01\n96  2.951193  1.892512e-01\n97  3.014660  1.265925e-01\n98  3.078126  6.342392e-02\n99  3.141593  1.224647e-16\n\n[100 rows x 2 columns]",
      "text/html": "<div>\n<style scoped>\n    .dataframe tbody tr th:only-of-type {\n        vertical-align: middle;\n    }\n\n    .dataframe tbody tr th {\n        vertical-align: top;\n    }\n\n    .dataframe thead th {\n        text-align: right;\n    }\n</style>\n<table border=\"1\" class=\"dataframe\">\n  <thead>\n    <tr style=\"text-align: right;\">\n      <th></th>\n      <th>x</th>\n      <th>y</th>\n    </tr>\n  </thead>\n  <tbody>\n    <tr>\n      <th>0</th>\n      <td>-3.141593</td>\n      <td>-1.224647e-16</td>\n    </tr>\n    <tr>\n      <th>1</th>\n      <td>-3.078126</td>\n      <td>-6.342392e-02</td>\n    </tr>\n    <tr>\n      <th>2</th>\n      <td>-3.014660</td>\n      <td>-1.265925e-01</td>\n    </tr>\n    <tr>\n      <th>3</th>\n      <td>-2.951193</td>\n      <td>-1.892512e-01</td>\n    </tr>\n    <tr>\n      <th>4</th>\n      <td>-2.887727</td>\n      <td>-2.511480e-01</td>\n    </tr>\n    <tr>\n      <th>...</th>\n      <td>...</td>\n      <td>...</td>\n    </tr>\n    <tr>\n      <th>95</th>\n      <td>2.887727</td>\n      <td>2.511480e-01</td>\n    </tr>\n    <tr>\n      <th>96</th>\n      <td>2.951193</td>\n      <td>1.892512e-01</td>\n    </tr>\n    <tr>\n      <th>97</th>\n      <td>3.014660</td>\n      <td>1.265925e-01</td>\n    </tr>\n    <tr>\n      <th>98</th>\n      <td>3.078126</td>\n      <td>6.342392e-02</td>\n    </tr>\n    <tr>\n      <th>99</th>\n      <td>3.141593</td>\n      <td>1.224647e-16</td>\n    </tr>\n  </tbody>\n</table>\n<p>100 rows × 2 columns</p>\n</div>"
     },
     "execution_count": 5,
     "metadata": {},
     "output_type": "execute_result"
    }
   ],
   "source": [
    "lab_frame = pd.DataFrame(l1, columns=['x'])\n",
    "lab_frame['y'] = const + amp * np.sin(lab_frame['x'])\n",
    "lab_frame"
   ],
   "metadata": {
    "collapsed": false,
    "pycharm": {
     "name": "#%%\n"
    }
   }
  },
  {
   "cell_type": "code",
   "execution_count": 6,
   "outputs": [
    {
     "data": {
      "text/plain": "<Figure size 432x288 with 1 Axes>",
      "image/png": "[encoded data removed]"
     },
     "metadata": {
      "needs_background": "light"
     },
     "output_type": "display_data"
    }
   ],
   "source": [
    "plot = sns.lineplot(data=lab_frame['y'], color='black')\n",
    "plot.set(xticklabels=[])\n",
    "plot.set(yticklabels=[])\n",
    "plot.set(xlabel=None)\n",
    "plot.set(ylabel=None)\n",
    "fig = plot.get_figure()\n",
    "fig.savefig('sinus.png')"
   ],
   "metadata": {
    "collapsed": false,
    "pycharm": {
     "name": "#%%\n"
    }
   }
  }
 ],
 "metadata": {
  "kernelspec": {
   "name": "pycharm-3aaaba9b",
   "language": "python",
   "display_name": "PyCharm (UDEMY_ML_NEW)"
  },
  "language_info": {
   "codemirror_mode": {
    "name": "ipython",
    "version": 2
   },
   "file_extension": ".py",
   "mimetype": "text/x-python",
   "name": "python",
   "nbconvert_exporter": "python",
   "pygments_lexer": "ipython2",
   "version": "2.7.6"
  },
  "pycharm": {
   "stem_cell": {
    "cell_type": "raw",
    "source": [
     "%load_ext jupyter_spaces"
    ],
    "metadata": {
     "collapsed": false
    }
   }
  }
 },
 "nbformat": 4,
 "nbformat_minor": 0
}