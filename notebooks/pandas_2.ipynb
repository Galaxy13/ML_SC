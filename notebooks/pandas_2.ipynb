{
 "cells": [
  {
   "cell_type": "code",
   "execution_count": 1,
   "metadata": {
    "collapsed": true
   },
   "outputs": [],
   "source": [
    "import pandas as pd\n",
    "import numpy as np\n"
   ]
  },
  {
   "cell_type": "code",
   "execution_count": 2,
   "outputs": [],
   "source": [
    "df = pd.read_csv(r'C:\\Users\\Home\\PycharmProjects\\UDEMY_ML_NEW\\data\\mpg.csv')"
   ],
   "metadata": {
    "collapsed": false,
    "pycharm": {
     "name": "#%%\n"
    }
   }
  },
  {
   "cell_type": "code",
   "execution_count": 3,
   "outputs": [
    {
     "data": {
      "text/plain": "      mpg  cylinders  displacement horsepower  weight  acceleration  \\\n0    18.0          8         307.0        130    3504          12.0   \n1    15.0          8         350.0        165    3693          11.5   \n2    18.0          8         318.0        150    3436          11.0   \n3    16.0          8         304.0        150    3433          12.0   \n4    17.0          8         302.0        140    3449          10.5   \n..    ...        ...           ...        ...     ...           ...   \n393  27.0          4         140.0         86    2790          15.6   \n394  44.0          4          97.0         52    2130          24.6   \n395  32.0          4         135.0         84    2295          11.6   \n396  28.0          4         120.0         79    2625          18.6   \n397  31.0          4         119.0         82    2720          19.4   \n\n     model_year  origin                       name  \n0            70       1  chevrolet chevelle malibu  \n1            70       1          buick skylark 320  \n2            70       1         plymouth satellite  \n3            70       1              amc rebel sst  \n4            70       1                ford torino  \n..          ...     ...                        ...  \n393          82       1            ford mustang gl  \n394          82       2                  vw pickup  \n395          82       1              dodge rampage  \n396          82       1                ford ranger  \n397          82       1                 chevy s-10  \n\n[398 rows x 9 columns]",
      "text/html": "<div>\n<style scoped>\n    .dataframe tbody tr th:only-of-type {\n        vertical-align: middle;\n    }\n\n    .dataframe tbody tr th {\n        vertical-align: top;\n    }\n\n    .dataframe thead th {\n        text-align: right;\n    }\n</style>\n<table border=\"1\" class=\"dataframe\">\n  <thead>\n    <tr style=\"text-align: right;\">\n      <th></th>\n      <th>mpg</th>\n      <th>cylinders</th>\n      <th>displacement</th>\n      <th>horsepower</th>\n      <th>weight</th>\n      <th>acceleration</th>\n      <th>model_year</th>\n      <th>origin</th>\n      <th>name</th>\n    </tr>\n  </thead>\n  <tbody>\n    <tr>\n      <th>0</th>\n      <td>18.0</td>\n      <td>8</td>\n      <td>307.0</td>\n      <td>130</td>\n      <td>3504</td>\n      <td>12.0</td>\n      <td>70</td>\n      <td>1</td>\n      <td>chevrolet chevelle malibu</td>\n    </tr>\n    <tr>\n      <th>1</th>\n      <td>15.0</td>\n      <td>8</td>\n      <td>350.0</td>\n      <td>165</td>\n      <td>3693</td>\n      <td>11.5</td>\n      <td>70</td>\n      <td>1</td>\n      <td>buick skylark 320</td>\n    </tr>\n    <tr>\n      <th>2</th>\n      <td>18.0</td>\n      <td>8</td>\n      <td>318.0</td>\n      <td>150</td>\n      <td>3436</td>\n      <td>11.0</td>\n      <td>70</td>\n      <td>1</td>\n      <td>plymouth satellite</td>\n    </tr>\n    <tr>\n      <th>3</th>\n      <td>16.0</td>\n      <td>8</td>\n      <td>304.0</td>\n      <td>150</td>\n      <td>3433</td>\n      <td>12.0</td>\n      <td>70</td>\n      <td>1</td>\n      <td>amc rebel sst</td>\n    </tr>\n    <tr>\n      <th>4</th>\n      <td>17.0</td>\n      <td>8</td>\n      <td>302.0</td>\n      <td>140</td>\n      <td>3449</td>\n      <td>10.5</td>\n      <td>70</td>\n      <td>1</td>\n      <td>ford torino</td>\n    </tr>\n    <tr>\n      <th>...</th>\n      <td>...</td>\n      <td>...</td>\n      <td>...</td>\n      <td>...</td>\n      <td>...</td>\n      <td>...</td>\n      <td>...</td>\n      <td>...</td>\n      <td>...</td>\n    </tr>\n    <tr>\n      <th>393</th>\n      <td>27.0</td>\n      <td>4</td>\n      <td>140.0</td>\n      <td>86</td>\n      <td>2790</td>\n      <td>15.6</td>\n      <td>82</td>\n      <td>1</td>\n      <td>ford mustang gl</td>\n    </tr>\n    <tr>\n      <th>394</th>\n      <td>44.0</td>\n      <td>4</td>\n      <td>97.0</td>\n      <td>52</td>\n      <td>2130</td>\n      <td>24.6</td>\n      <td>82</td>\n      <td>2</td>\n      <td>vw pickup</td>\n    </tr>\n    <tr>\n      <th>395</th>\n      <td>32.0</td>\n      <td>4</td>\n      <td>135.0</td>\n      <td>84</td>\n      <td>2295</td>\n      <td>11.6</td>\n      <td>82</td>\n      <td>1</td>\n      <td>dodge rampage</td>\n    </tr>\n    <tr>\n      <th>396</th>\n      <td>28.0</td>\n      <td>4</td>\n      <td>120.0</td>\n      <td>79</td>\n      <td>2625</td>\n      <td>18.6</td>\n      <td>82</td>\n      <td>1</td>\n      <td>ford ranger</td>\n    </tr>\n    <tr>\n      <th>397</th>\n      <td>31.0</td>\n      <td>4</td>\n      <td>119.0</td>\n      <td>82</td>\n      <td>2720</td>\n      <td>19.4</td>\n      <td>82</td>\n      <td>1</td>\n      <td>chevy s-10</td>\n    </tr>\n  </tbody>\n</table>\n<p>398 rows × 9 columns</p>\n</div>"
     },
     "execution_count": 3,
     "metadata": {},
     "output_type": "execute_result"
    }
   ],
   "source": [
    "df"
   ],
   "metadata": {
    "collapsed": false,
    "pycharm": {
     "name": "#%%\n"
    }
   }
  },
  {
   "cell_type": "code",
   "execution_count": 4,
   "outputs": [
    {
     "data": {
      "text/plain": "73    40\n78    36\n76    34\n82    31\n75    30\n70    29\n79    29\n80    29\n81    29\n71    28\n72    28\n77    28\n74    27\nName: model_year, dtype: int64"
     },
     "execution_count": 4,
     "metadata": {},
     "output_type": "execute_result"
    }
   ],
   "source": [
    "df['model_year'].value_counts()"
   ],
   "metadata": {
    "collapsed": false,
    "pycharm": {
     "name": "#%%\n"
    }
   }
  },
  {
   "cell_type": "code",
   "execution_count": 5,
   "outputs": [
    {
     "data": {
      "text/plain": "                            mpg  displacement       weight  acceleration  \\\nmodel_year cylinders                                                       \n70         4          25.285714    107.000000  2292.571429     16.000000   \n           6          20.500000    199.000000  2710.500000     15.500000   \n           8          14.111111    367.555556  3940.055556     11.194444   \n71         4          27.461538    101.846154  2056.384615     16.961538   \n           6          18.000000    243.375000  3171.875000     14.750000   \n           8          13.428571    371.714286  4537.714286     12.214286   \n72         3          19.000000     70.000000  2330.000000     13.500000   \n           4          23.428571    111.535714  2382.642857     17.214286   \n           8          13.615385    344.846154  4228.384615     13.000000   \n73         3          18.000000     70.000000  2124.000000     13.500000   \n           4          22.727273    109.272727  2338.090909     17.136364   \n           6          19.000000    212.250000  2917.125000     15.687500   \n           8          13.200000    365.250000  4279.050000     12.250000   \n74         4          27.800000     96.533333  2151.466667     16.400000   \n           6          17.857143    230.428571  3320.000000     16.857143   \n           8          14.200000    315.200000  4438.400000     14.700000   \n75         4          25.250000    114.833333  2489.250000     15.833333   \n           6          17.583333    233.750000  3398.333333     17.708333   \n           8          15.666667    330.500000  4108.833333     13.166667   \n76         4          26.766667    106.333333  2306.600000     16.866667   \n           6          20.000000    221.400000  3349.600000     17.000000   \n           8          14.666667    324.000000  4064.666667     13.222222   \n77         3          21.500000     80.000000  2720.000000     13.500000   \n           4          29.107143    106.500000  2205.071429     16.064286   \n           6          19.500000    220.400000  3383.000000     16.900000   \n           8          16.000000    335.750000  4177.500000     13.662500   \n78         4          29.576471    112.117647  2296.764706     16.282353   \n           5          20.300000    131.000000  2830.000000     15.900000   \n           6          19.066667    213.250000  3314.166667     16.391667   \n           8          19.050000    300.833333  3563.333333     13.266667   \n79         4          31.525000    113.583333  2357.583333     15.991667   \n           5          25.400000    183.000000  3530.000000     20.100000   \n           6          22.950000    205.666667  3025.833333     15.433333   \n           8          18.630000    321.400000  3862.900000     15.400000   \n80         3          23.700000     70.000000  2420.000000     12.500000   \n           4          34.612000    111.000000  2360.080000     17.144000   \n           5          36.400000    121.000000  2950.000000     19.900000   \n           6          25.900000    196.500000  3145.500000     15.050000   \n81         4          32.814286    108.857143  2275.476190     16.466667   \n           6          23.428571    184.000000  3093.571429     15.442857   \n           8          26.600000    350.000000  3725.000000     19.000000   \n82         4          32.071429    118.571429  2402.321429     16.703571   \n           6          28.333333    225.000000  2931.666667     16.033333   \n\n                        origin  \nmodel_year cylinders            \n70         4          2.285714  \n           6          1.000000  \n           8          1.000000  \n71         4          1.923077  \n           6          1.000000  \n           8          1.000000  \n72         3          3.000000  \n           4          1.928571  \n           8          1.000000  \n73         3          3.000000  \n           4          2.000000  \n           6          1.250000  \n           8          1.000000  \n74         4          2.200000  \n           6          1.000000  \n           8          1.000000  \n75         4          2.166667  \n           6          1.000000  \n           8          1.000000  \n76         4          1.866667  \n           6          1.300000  \n           8          1.000000  \n77         3          3.000000  \n           4          1.857143  \n           6          1.400000  \n           8          1.000000  \n78         4          2.117647  \n           5          2.000000  \n           6          1.166667  \n           8          1.000000  \n79         4          1.583333  \n           5          2.000000  \n           6          1.000000  \n           8          1.000000  \n80         3          3.000000  \n           4          2.200000  \n           5          2.000000  \n           6          2.000000  \n81         4          2.095238  \n           6          1.714286  \n           8          1.000000  \n82         4          1.714286  \n           6          1.000000  ",
      "text/html": "<div>\n<style scoped>\n    .dataframe tbody tr th:only-of-type {\n        vertical-align: middle;\n    }\n\n    .dataframe tbody tr th {\n        vertical-align: top;\n    }\n\n    .dataframe thead th {\n        text-align: right;\n    }\n</style>\n<table border=\"1\" class=\"dataframe\">\n  <thead>\n    <tr style=\"text-align: right;\">\n      <th></th>\n      <th></th>\n      <th>mpg</th>\n      <th>displacement</th>\n      <th>weight</th>\n      <th>acceleration</th>\n      <th>origin</th>\n    </tr>\n    <tr>\n      <th>model_year</th>\n      <th>cylinders</th>\n      <th></th>\n      <th></th>\n      <th></th>\n      <th></th>\n      <th></th>\n    </tr>\n  </thead>\n  <tbody>\n    <tr>\n      <th rowspan=\"3\" valign=\"top\">70</th>\n      <th>4</th>\n      <td>25.285714</td>\n      <td>107.000000</td>\n      <td>2292.571429</td>\n      <td>16.000000</td>\n      <td>2.285714</td>\n    </tr>\n    <tr>\n      <th>6</th>\n      <td>20.500000</td>\n      <td>199.000000</td>\n      <td>2710.500000</td>\n      <td>15.500000</td>\n      <td>1.000000</td>\n    </tr>\n    <tr>\n      <th>8</th>\n      <td>14.111111</td>\n      <td>367.555556</td>\n      <td>3940.055556</td>\n      <td>11.194444</td>\n      <td>1.000000</td>\n    </tr>\n    <tr>\n      <th rowspan=\"3\" valign=\"top\">71</th>\n      <th>4</th>\n      <td>27.461538</td>\n      <td>101.846154</td>\n      <td>2056.384615</td>\n      <td>16.961538</td>\n      <td>1.923077</td>\n    </tr>\n    <tr>\n      <th>6</th>\n      <td>18.000000</td>\n      <td>243.375000</td>\n      <td>3171.875000</td>\n      <td>14.750000</td>\n      <td>1.000000</td>\n    </tr>\n    <tr>\n      <th>8</th>\n      <td>13.428571</td>\n      <td>371.714286</td>\n      <td>4537.714286</td>\n      <td>12.214286</td>\n      <td>1.000000</td>\n    </tr>\n    <tr>\n      <th rowspan=\"3\" valign=\"top\">72</th>\n      <th>3</th>\n      <td>19.000000</td>\n      <td>70.000000</td>\n      <td>2330.000000</td>\n      <td>13.500000</td>\n      <td>3.000000</td>\n    </tr>\n    <tr>\n      <th>4</th>\n      <td>23.428571</td>\n      <td>111.535714</td>\n      <td>2382.642857</td>\n      <td>17.214286</td>\n      <td>1.928571</td>\n    </tr>\n    <tr>\n      <th>8</th>\n      <td>13.615385</td>\n      <td>344.846154</td>\n      <td>4228.384615</td>\n      <td>13.000000</td>\n      <td>1.000000</td>\n    </tr>\n    <tr>\n      <th rowspan=\"4\" valign=\"top\">73</th>\n      <th>3</th>\n      <td>18.000000</td>\n      <td>70.000000</td>\n      <td>2124.000000</td>\n      <td>13.500000</td>\n      <td>3.000000</td>\n    </tr>\n    <tr>\n      <th>4</th>\n      <td>22.727273</td>\n      <td>109.272727</td>\n      <td>2338.090909</td>\n      <td>17.136364</td>\n      <td>2.000000</td>\n    </tr>\n    <tr>\n      <th>6</th>\n      <td>19.000000</td>\n      <td>212.250000</td>\n      <td>2917.125000</td>\n      <td>15.687500</td>\n      <td>1.250000</td>\n    </tr>\n    <tr>\n      <th>8</th>\n      <td>13.200000</td>\n      <td>365.250000</td>\n      <td>4279.050000</td>\n      <td>12.250000</td>\n      <td>1.000000</td>\n    </tr>\n    <tr>\n      <th rowspan=\"3\" valign=\"top\">74</th>\n      <th>4</th>\n      <td>27.800000</td>\n      <td>96.533333</td>\n      <td>2151.466667</td>\n      <td>16.400000</td>\n      <td>2.200000</td>\n    </tr>\n    <tr>\n      <th>6</th>\n      <td>17.857143</td>\n      <td>230.428571</td>\n      <td>3320.000000</td>\n      <td>16.857143</td>\n      <td>1.000000</td>\n    </tr>\n    <tr>\n      <th>8</th>\n      <td>14.200000</td>\n      <td>315.200000</td>\n      <td>4438.400000</td>\n      <td>14.700000</td>\n      <td>1.000000</td>\n    </tr>\n    <tr>\n      <th rowspan=\"3\" valign=\"top\">75</th>\n      <th>4</th>\n      <td>25.250000</td>\n      <td>114.833333</td>\n      <td>2489.250000</td>\n      <td>15.833333</td>\n      <td>2.166667</td>\n    </tr>\n    <tr>\n      <th>6</th>\n      <td>17.583333</td>\n      <td>233.750000</td>\n      <td>3398.333333</td>\n      <td>17.708333</td>\n      <td>1.000000</td>\n    </tr>\n    <tr>\n      <th>8</th>\n      <td>15.666667</td>\n      <td>330.500000</td>\n      <td>4108.833333</td>\n      <td>13.166667</td>\n      <td>1.000000</td>\n    </tr>\n    <tr>\n      <th rowspan=\"3\" valign=\"top\">76</th>\n      <th>4</th>\n      <td>26.766667</td>\n      <td>106.333333</td>\n      <td>2306.600000</td>\n      <td>16.866667</td>\n      <td>1.866667</td>\n    </tr>\n    <tr>\n      <th>6</th>\n      <td>20.000000</td>\n      <td>221.400000</td>\n      <td>3349.600000</td>\n      <td>17.000000</td>\n      <td>1.300000</td>\n    </tr>\n    <tr>\n      <th>8</th>\n      <td>14.666667</td>\n      <td>324.000000</td>\n      <td>4064.666667</td>\n      <td>13.222222</td>\n      <td>1.000000</td>\n    </tr>\n    <tr>\n      <th rowspan=\"4\" valign=\"top\">77</th>\n      <th>3</th>\n      <td>21.500000</td>\n      <td>80.000000</td>\n      <td>2720.000000</td>\n      <td>13.500000</td>\n      <td>3.000000</td>\n    </tr>\n    <tr>\n      <th>4</th>\n      <td>29.107143</td>\n      <td>106.500000</td>\n      <td>2205.071429</td>\n      <td>16.064286</td>\n      <td>1.857143</td>\n    </tr>\n    <tr>\n      <th>6</th>\n      <td>19.500000</td>\n      <td>220.400000</td>\n      <td>3383.000000</td>\n      <td>16.900000</td>\n      <td>1.400000</td>\n    </tr>\n    <tr>\n      <th>8</th>\n      <td>16.000000</td>\n      <td>335.750000</td>\n      <td>4177.500000</td>\n      <td>13.662500</td>\n      <td>1.000000</td>\n    </tr>\n    <tr>\n      <th rowspan=\"4\" valign=\"top\">78</th>\n      <th>4</th>\n      <td>29.576471</td>\n      <td>112.117647</td>\n      <td>2296.764706</td>\n      <td>16.282353</td>\n      <td>2.117647</td>\n    </tr>\n    <tr>\n      <th>5</th>\n      <td>20.300000</td>\n      <td>131.000000</td>\n      <td>2830.000000</td>\n      <td>15.900000</td>\n      <td>2.000000</td>\n    </tr>\n    <tr>\n      <th>6</th>\n      <td>19.066667</td>\n      <td>213.250000</td>\n      <td>3314.166667</td>\n      <td>16.391667</td>\n      <td>1.166667</td>\n    </tr>\n    <tr>\n      <th>8</th>\n      <td>19.050000</td>\n      <td>300.833333</td>\n      <td>3563.333333</td>\n      <td>13.266667</td>\n      <td>1.000000</td>\n    </tr>\n    <tr>\n      <th rowspan=\"4\" valign=\"top\">79</th>\n      <th>4</th>\n      <td>31.525000</td>\n      <td>113.583333</td>\n      <td>2357.583333</td>\n      <td>15.991667</td>\n      <td>1.583333</td>\n    </tr>\n    <tr>\n      <th>5</th>\n      <td>25.400000</td>\n      <td>183.000000</td>\n      <td>3530.000000</td>\n      <td>20.100000</td>\n      <td>2.000000</td>\n    </tr>\n    <tr>\n      <th>6</th>\n      <td>22.950000</td>\n      <td>205.666667</td>\n      <td>3025.833333</td>\n      <td>15.433333</td>\n      <td>1.000000</td>\n    </tr>\n    <tr>\n      <th>8</th>\n      <td>18.630000</td>\n      <td>321.400000</td>\n      <td>3862.900000</td>\n      <td>15.400000</td>\n      <td>1.000000</td>\n    </tr>\n    <tr>\n      <th rowspan=\"4\" valign=\"top\">80</th>\n      <th>3</th>\n      <td>23.700000</td>\n      <td>70.000000</td>\n      <td>2420.000000</td>\n      <td>12.500000</td>\n      <td>3.000000</td>\n    </tr>\n    <tr>\n      <th>4</th>\n      <td>34.612000</td>\n      <td>111.000000</td>\n      <td>2360.080000</td>\n      <td>17.144000</td>\n      <td>2.200000</td>\n    </tr>\n    <tr>\n      <th>5</th>\n      <td>36.400000</td>\n      <td>121.000000</td>\n      <td>2950.000000</td>\n      <td>19.900000</td>\n      <td>2.000000</td>\n    </tr>\n    <tr>\n      <th>6</th>\n      <td>25.900000</td>\n      <td>196.500000</td>\n      <td>3145.500000</td>\n      <td>15.050000</td>\n      <td>2.000000</td>\n    </tr>\n    <tr>\n      <th rowspan=\"3\" valign=\"top\">81</th>\n      <th>4</th>\n      <td>32.814286</td>\n      <td>108.857143</td>\n      <td>2275.476190</td>\n      <td>16.466667</td>\n      <td>2.095238</td>\n    </tr>\n    <tr>\n      <th>6</th>\n      <td>23.428571</td>\n      <td>184.000000</td>\n      <td>3093.571429</td>\n      <td>15.442857</td>\n      <td>1.714286</td>\n    </tr>\n    <tr>\n      <th>8</th>\n      <td>26.600000</td>\n      <td>350.000000</td>\n      <td>3725.000000</td>\n      <td>19.000000</td>\n      <td>1.000000</td>\n    </tr>\n    <tr>\n      <th rowspan=\"2\" valign=\"top\">82</th>\n      <th>4</th>\n      <td>32.071429</td>\n      <td>118.571429</td>\n      <td>2402.321429</td>\n      <td>16.703571</td>\n      <td>1.714286</td>\n    </tr>\n    <tr>\n      <th>6</th>\n      <td>28.333333</td>\n      <td>225.000000</td>\n      <td>2931.666667</td>\n      <td>16.033333</td>\n      <td>1.000000</td>\n    </tr>\n  </tbody>\n</table>\n</div>"
     },
     "execution_count": 5,
     "metadata": {},
     "output_type": "execute_result"
    }
   ],
   "source": [
    "df.groupby(['model_year', 'cylinders']).mean()"
   ],
   "metadata": {
    "collapsed": false,
    "pycharm": {
     "name": "#%%\n"
    }
   }
  },
  {
   "cell_type": "code",
   "execution_count": 6,
   "outputs": [
    {
     "data": {
      "text/plain": "mpg               25.285714\ndisplacement     107.000000\nweight          2292.571429\nacceleration      16.000000\norigin             2.285714\nName: (70, 4), dtype: float64"
     },
     "execution_count": 6,
     "metadata": {},
     "output_type": "execute_result"
    }
   ],
   "source": [
    "year_cyl = df.groupby(['model_year', 'cylinders']).mean()\n",
    "year_cyl.index.levels\n",
    "year_cyl.loc[(70, 4)]"
   ],
   "metadata": {
    "collapsed": false,
    "pycharm": {
     "name": "#%%\n"
    }
   }
  },
  {
   "cell_type": "code",
   "execution_count": 7,
   "outputs": [],
   "source": [
    "data_one = {'A': ['A0', 'A1', 'A2', 'A3'], 'B': ['B0', 'B1', 'B2', 'B3']}"
   ],
   "metadata": {
    "collapsed": false,
    "pycharm": {
     "name": "#%%\n"
    }
   }
  },
  {
   "cell_type": "code",
   "execution_count": 8,
   "outputs": [],
   "source": [
    "data_two = {'C': ['C0', 'C1', 'C2', 'C3'],\n",
    "            'D': ['D0', 'D1', 'D2', 'D3']}"
   ],
   "metadata": {
    "collapsed": false,
    "pycharm": {
     "name": "#%%\n"
    }
   }
  },
  {
   "cell_type": "code",
   "execution_count": 9,
   "outputs": [],
   "source": [
    "one = pd.DataFrame(data_one)\n",
    "two = pd.DataFrame(data_two)"
   ],
   "metadata": {
    "collapsed": false,
    "pycharm": {
     "name": "#%%\n"
    }
   }
  },
  {
   "cell_type": "code",
   "execution_count": 10,
   "outputs": [
    {
     "data": {
      "text/plain": "    A   B   C   D\n0  A0  B0  C0  D0\n1  A1  B1  C1  D1\n2  A2  B2  C2  D2\n3  A3  B3  C3  D3",
      "text/html": "<div>\n<style scoped>\n    .dataframe tbody tr th:only-of-type {\n        vertical-align: middle;\n    }\n\n    .dataframe tbody tr th {\n        vertical-align: top;\n    }\n\n    .dataframe thead th {\n        text-align: right;\n    }\n</style>\n<table border=\"1\" class=\"dataframe\">\n  <thead>\n    <tr style=\"text-align: right;\">\n      <th></th>\n      <th>A</th>\n      <th>B</th>\n      <th>C</th>\n      <th>D</th>\n    </tr>\n  </thead>\n  <tbody>\n    <tr>\n      <th>0</th>\n      <td>A0</td>\n      <td>B0</td>\n      <td>C0</td>\n      <td>D0</td>\n    </tr>\n    <tr>\n      <th>1</th>\n      <td>A1</td>\n      <td>B1</td>\n      <td>C1</td>\n      <td>D1</td>\n    </tr>\n    <tr>\n      <th>2</th>\n      <td>A2</td>\n      <td>B2</td>\n      <td>C2</td>\n      <td>D2</td>\n    </tr>\n    <tr>\n      <th>3</th>\n      <td>A3</td>\n      <td>B3</td>\n      <td>C3</td>\n      <td>D3</td>\n    </tr>\n  </tbody>\n</table>\n</div>"
     },
     "execution_count": 10,
     "metadata": {},
     "output_type": "execute_result"
    }
   ],
   "source": [
    "pd.concat([one, two], axis=1)"
   ],
   "metadata": {
    "collapsed": false,
    "pycharm": {
     "name": "#%%\n"
    }
   }
  },
  {
   "cell_type": "code",
   "execution_count": 11,
   "outputs": [
    {
     "data": {
      "text/plain": "     A    B    C    D\n0   A0   B0  NaN  NaN\n1   A1   B1  NaN  NaN\n2   A2   B2  NaN  NaN\n3   A3   B3  NaN  NaN\n0  NaN  NaN   C0   D0\n1  NaN  NaN   C1   D1\n2  NaN  NaN   C2   D2\n3  NaN  NaN   C3   D3",
      "text/html": "<div>\n<style scoped>\n    .dataframe tbody tr th:only-of-type {\n        vertical-align: middle;\n    }\n\n    .dataframe tbody tr th {\n        vertical-align: top;\n    }\n\n    .dataframe thead th {\n        text-align: right;\n    }\n</style>\n<table border=\"1\" class=\"dataframe\">\n  <thead>\n    <tr style=\"text-align: right;\">\n      <th></th>\n      <th>A</th>\n      <th>B</th>\n      <th>C</th>\n      <th>D</th>\n    </tr>\n  </thead>\n  <tbody>\n    <tr>\n      <th>0</th>\n      <td>A0</td>\n      <td>B0</td>\n      <td>NaN</td>\n      <td>NaN</td>\n    </tr>\n    <tr>\n      <th>1</th>\n      <td>A1</td>\n      <td>B1</td>\n      <td>NaN</td>\n      <td>NaN</td>\n    </tr>\n    <tr>\n      <th>2</th>\n      <td>A2</td>\n      <td>B2</td>\n      <td>NaN</td>\n      <td>NaN</td>\n    </tr>\n    <tr>\n      <th>3</th>\n      <td>A3</td>\n      <td>B3</td>\n      <td>NaN</td>\n      <td>NaN</td>\n    </tr>\n    <tr>\n      <th>0</th>\n      <td>NaN</td>\n      <td>NaN</td>\n      <td>C0</td>\n      <td>D0</td>\n    </tr>\n    <tr>\n      <th>1</th>\n      <td>NaN</td>\n      <td>NaN</td>\n      <td>C1</td>\n      <td>D1</td>\n    </tr>\n    <tr>\n      <th>2</th>\n      <td>NaN</td>\n      <td>NaN</td>\n      <td>C2</td>\n      <td>D2</td>\n    </tr>\n    <tr>\n      <th>3</th>\n      <td>NaN</td>\n      <td>NaN</td>\n      <td>C3</td>\n      <td>D3</td>\n    </tr>\n  </tbody>\n</table>\n</div>"
     },
     "execution_count": 11,
     "metadata": {},
     "output_type": "execute_result"
    }
   ],
   "source": [
    "pd.concat([one, two], axis=0)"
   ],
   "metadata": {
    "collapsed": false,
    "pycharm": {
     "name": "#%%\n"
    }
   }
  },
  {
   "cell_type": "code",
   "execution_count": 12,
   "outputs": [],
   "source": [
    "two.columns = one.columns"
   ],
   "metadata": {
    "collapsed": false,
    "pycharm": {
     "name": "#%%\n"
    }
   }
  },
  {
   "cell_type": "code",
   "execution_count": 13,
   "outputs": [
    {
     "data": {
      "text/plain": "    A   B\n0  A0  B0\n0  C0  D0\n1  A1  B1\n1  C1  D1\n2  A2  B2\n2  C2  D2\n3  A3  B3\n3  C3  D3",
      "text/html": "<div>\n<style scoped>\n    .dataframe tbody tr th:only-of-type {\n        vertical-align: middle;\n    }\n\n    .dataframe tbody tr th {\n        vertical-align: top;\n    }\n\n    .dataframe thead th {\n        text-align: right;\n    }\n</style>\n<table border=\"1\" class=\"dataframe\">\n  <thead>\n    <tr style=\"text-align: right;\">\n      <th></th>\n      <th>A</th>\n      <th>B</th>\n    </tr>\n  </thead>\n  <tbody>\n    <tr>\n      <th>0</th>\n      <td>A0</td>\n      <td>B0</td>\n    </tr>\n    <tr>\n      <th>0</th>\n      <td>C0</td>\n      <td>D0</td>\n    </tr>\n    <tr>\n      <th>1</th>\n      <td>A1</td>\n      <td>B1</td>\n    </tr>\n    <tr>\n      <th>1</th>\n      <td>C1</td>\n      <td>D1</td>\n    </tr>\n    <tr>\n      <th>2</th>\n      <td>A2</td>\n      <td>B2</td>\n    </tr>\n    <tr>\n      <th>2</th>\n      <td>C2</td>\n      <td>D2</td>\n    </tr>\n    <tr>\n      <th>3</th>\n      <td>A3</td>\n      <td>B3</td>\n    </tr>\n    <tr>\n      <th>3</th>\n      <td>C3</td>\n      <td>D3</td>\n    </tr>\n  </tbody>\n</table>\n</div>"
     },
     "execution_count": 13,
     "metadata": {},
     "output_type": "execute_result"
    }
   ],
   "source": [
    "pd.concat([one, two]).sort_index()"
   ],
   "metadata": {
    "collapsed": false,
    "pycharm": {
     "name": "#%%\n"
    }
   }
  },
  {
   "cell_type": "code",
   "execution_count": 14,
   "outputs": [],
   "source": [
    "registrations = pd.DataFrame({'reg_id':[1,2,3,4],'name':['Andrew','Bobo','Claire','David']})\n",
    "logins = pd.DataFrame({'log_id':[1,2,3,4],'name':['Xavier','Andrew','Yolanda','Bobo']})"
   ],
   "metadata": {
    "collapsed": false,
    "pycharm": {
     "name": "#%%\n"
    }
   }
  },
  {
   "cell_type": "code",
   "execution_count": 15,
   "outputs": [
    {
     "data": {
      "text/plain": "   reg_id    name\n0       1  Andrew\n1       2    Bobo\n2       3  Claire\n3       4   David",
      "text/html": "<div>\n<style scoped>\n    .dataframe tbody tr th:only-of-type {\n        vertical-align: middle;\n    }\n\n    .dataframe tbody tr th {\n        vertical-align: top;\n    }\n\n    .dataframe thead th {\n        text-align: right;\n    }\n</style>\n<table border=\"1\" class=\"dataframe\">\n  <thead>\n    <tr style=\"text-align: right;\">\n      <th></th>\n      <th>reg_id</th>\n      <th>name</th>\n    </tr>\n  </thead>\n  <tbody>\n    <tr>\n      <th>0</th>\n      <td>1</td>\n      <td>Andrew</td>\n    </tr>\n    <tr>\n      <th>1</th>\n      <td>2</td>\n      <td>Bobo</td>\n    </tr>\n    <tr>\n      <th>2</th>\n      <td>3</td>\n      <td>Claire</td>\n    </tr>\n    <tr>\n      <th>3</th>\n      <td>4</td>\n      <td>David</td>\n    </tr>\n  </tbody>\n</table>\n</div>"
     },
     "execution_count": 15,
     "metadata": {},
     "output_type": "execute_result"
    }
   ],
   "source": [
    "registrations"
   ],
   "metadata": {
    "collapsed": false,
    "pycharm": {
     "name": "#%%\n"
    }
   }
  },
  {
   "cell_type": "code",
   "execution_count": 16,
   "outputs": [
    {
     "data": {
      "text/plain": "   log_id     name\n0       1   Xavier\n1       2   Andrew\n2       3  Yolanda\n3       4     Bobo",
      "text/html": "<div>\n<style scoped>\n    .dataframe tbody tr th:only-of-type {\n        vertical-align: middle;\n    }\n\n    .dataframe tbody tr th {\n        vertical-align: top;\n    }\n\n    .dataframe thead th {\n        text-align: right;\n    }\n</style>\n<table border=\"1\" class=\"dataframe\">\n  <thead>\n    <tr style=\"text-align: right;\">\n      <th></th>\n      <th>log_id</th>\n      <th>name</th>\n    </tr>\n  </thead>\n  <tbody>\n    <tr>\n      <th>0</th>\n      <td>1</td>\n      <td>Xavier</td>\n    </tr>\n    <tr>\n      <th>1</th>\n      <td>2</td>\n      <td>Andrew</td>\n    </tr>\n    <tr>\n      <th>2</th>\n      <td>3</td>\n      <td>Yolanda</td>\n    </tr>\n    <tr>\n      <th>3</th>\n      <td>4</td>\n      <td>Bobo</td>\n    </tr>\n  </tbody>\n</table>\n</div>"
     },
     "execution_count": 16,
     "metadata": {},
     "output_type": "execute_result"
    }
   ],
   "source": [
    "logins"
   ],
   "metadata": {
    "collapsed": false,
    "pycharm": {
     "name": "#%%\n"
    }
   }
  },
  {
   "cell_type": "code",
   "execution_count": 17,
   "outputs": [
    {
     "data": {
      "text/plain": "   reg_id    name  log_id\n0       1  Andrew       2\n1       2    Bobo       4",
      "text/html": "<div>\n<style scoped>\n    .dataframe tbody tr th:only-of-type {\n        vertical-align: middle;\n    }\n\n    .dataframe tbody tr th {\n        vertical-align: top;\n    }\n\n    .dataframe thead th {\n        text-align: right;\n    }\n</style>\n<table border=\"1\" class=\"dataframe\">\n  <thead>\n    <tr style=\"text-align: right;\">\n      <th></th>\n      <th>reg_id</th>\n      <th>name</th>\n      <th>log_id</th>\n    </tr>\n  </thead>\n  <tbody>\n    <tr>\n      <th>0</th>\n      <td>1</td>\n      <td>Andrew</td>\n      <td>2</td>\n    </tr>\n    <tr>\n      <th>1</th>\n      <td>2</td>\n      <td>Bobo</td>\n      <td>4</td>\n    </tr>\n  </tbody>\n</table>\n</div>"
     },
     "execution_count": 17,
     "metadata": {},
     "output_type": "execute_result"
    }
   ],
   "source": [
    "pd.merge(registrations, logins, how='inner', on='name')"
   ],
   "metadata": {
    "collapsed": false,
    "pycharm": {
     "name": "#%%\n"
    }
   }
  },
  {
   "cell_type": "code",
   "execution_count": 18,
   "outputs": [
    {
     "data": {
      "text/plain": "   reg_id    name  log_id\n0       1  Andrew     2.0\n1       2    Bobo     4.0\n2       3  Claire     NaN\n3       4   David     NaN",
      "text/html": "<div>\n<style scoped>\n    .dataframe tbody tr th:only-of-type {\n        vertical-align: middle;\n    }\n\n    .dataframe tbody tr th {\n        vertical-align: top;\n    }\n\n    .dataframe thead th {\n        text-align: right;\n    }\n</style>\n<table border=\"1\" class=\"dataframe\">\n  <thead>\n    <tr style=\"text-align: right;\">\n      <th></th>\n      <th>reg_id</th>\n      <th>name</th>\n      <th>log_id</th>\n    </tr>\n  </thead>\n  <tbody>\n    <tr>\n      <th>0</th>\n      <td>1</td>\n      <td>Andrew</td>\n      <td>2.0</td>\n    </tr>\n    <tr>\n      <th>1</th>\n      <td>2</td>\n      <td>Bobo</td>\n      <td>4.0</td>\n    </tr>\n    <tr>\n      <th>2</th>\n      <td>3</td>\n      <td>Claire</td>\n      <td>NaN</td>\n    </tr>\n    <tr>\n      <th>3</th>\n      <td>4</td>\n      <td>David</td>\n      <td>NaN</td>\n    </tr>\n  </tbody>\n</table>\n</div>"
     },
     "execution_count": 18,
     "metadata": {},
     "output_type": "execute_result"
    }
   ],
   "source": [
    "pd.merge(registrations, logins, how='left', on='name')"
   ],
   "metadata": {
    "collapsed": false,
    "pycharm": {
     "name": "#%%\n"
    }
   }
  },
  {
   "cell_type": "code",
   "execution_count": 21,
   "outputs": [
    {
     "data": {
      "text/plain": "   reg_id     name  log_id\n0     1.0   Andrew     2.0\n1     2.0     Bobo     4.0\n2     3.0   Claire     NaN\n3     4.0    David     NaN\n4     NaN   Xavier     1.0\n5     NaN  Yolanda     3.0",
      "text/html": "<div>\n<style scoped>\n    .dataframe tbody tr th:only-of-type {\n        vertical-align: middle;\n    }\n\n    .dataframe tbody tr th {\n        vertical-align: top;\n    }\n\n    .dataframe thead th {\n        text-align: right;\n    }\n</style>\n<table border=\"1\" class=\"dataframe\">\n  <thead>\n    <tr style=\"text-align: right;\">\n      <th></th>\n      <th>reg_id</th>\n      <th>name</th>\n      <th>log_id</th>\n    </tr>\n  </thead>\n  <tbody>\n    <tr>\n      <th>0</th>\n      <td>1.0</td>\n      <td>Andrew</td>\n      <td>2.0</td>\n    </tr>\n    <tr>\n      <th>1</th>\n      <td>2.0</td>\n      <td>Bobo</td>\n      <td>4.0</td>\n    </tr>\n    <tr>\n      <th>2</th>\n      <td>3.0</td>\n      <td>Claire</td>\n      <td>NaN</td>\n    </tr>\n    <tr>\n      <th>3</th>\n      <td>4.0</td>\n      <td>David</td>\n      <td>NaN</td>\n    </tr>\n    <tr>\n      <th>4</th>\n      <td>NaN</td>\n      <td>Xavier</td>\n      <td>1.0</td>\n    </tr>\n    <tr>\n      <th>5</th>\n      <td>NaN</td>\n      <td>Yolanda</td>\n      <td>3.0</td>\n    </tr>\n  </tbody>\n</table>\n</div>"
     },
     "execution_count": 21,
     "metadata": {},
     "output_type": "execute_result"
    }
   ],
   "source": [
    "pd.merge(left=registrations, right=logins, how='outer', on='name')"
   ],
   "metadata": {
    "collapsed": false,
    "pycharm": {
     "name": "#%%\n"
    }
   }
  },
  {
   "cell_type": "code",
   "execution_count": 23,
   "outputs": [
    {
     "ename": "KeyError",
     "evalue": "\"None of ['name'] are in the columns\"",
     "output_type": "error",
     "traceback": [
      "\u001B[1;31m---------------------------------------------------------------------------\u001B[0m",
      "\u001B[1;31mKeyError\u001B[0m                                  Traceback (most recent call last)",
      "\u001B[1;32m~\\AppData\\Local\\Temp/ipykernel_19164/1645350289.py\u001B[0m in \u001B[0;36m<module>\u001B[1;34m\u001B[0m\n\u001B[1;32m----> 1\u001B[1;33m \u001B[0mregistrations\u001B[0m \u001B[1;33m=\u001B[0m \u001B[0mregistrations\u001B[0m\u001B[1;33m.\u001B[0m\u001B[0mset_index\u001B[0m\u001B[1;33m(\u001B[0m\u001B[1;34m'name'\u001B[0m\u001B[1;33m)\u001B[0m\u001B[1;33m\u001B[0m\u001B[1;33m\u001B[0m\u001B[0m\n\u001B[0m",
      "\u001B[1;32m~\\anaconda3\\envs\\UDEMY_ML_NEW\\lib\\site-packages\\pandas\\util\\_decorators.py\u001B[0m in \u001B[0;36mwrapper\u001B[1;34m(*args, **kwargs)\u001B[0m\n\u001B[0;32m    309\u001B[0m                     \u001B[0mstacklevel\u001B[0m\u001B[1;33m=\u001B[0m\u001B[0mstacklevel\u001B[0m\u001B[1;33m,\u001B[0m\u001B[1;33m\u001B[0m\u001B[1;33m\u001B[0m\u001B[0m\n\u001B[0;32m    310\u001B[0m                 )\n\u001B[1;32m--> 311\u001B[1;33m             \u001B[1;32mreturn\u001B[0m \u001B[0mfunc\u001B[0m\u001B[1;33m(\u001B[0m\u001B[1;33m*\u001B[0m\u001B[0margs\u001B[0m\u001B[1;33m,\u001B[0m \u001B[1;33m**\u001B[0m\u001B[0mkwargs\u001B[0m\u001B[1;33m)\u001B[0m\u001B[1;33m\u001B[0m\u001B[1;33m\u001B[0m\u001B[0m\n\u001B[0m\u001B[0;32m    312\u001B[0m \u001B[1;33m\u001B[0m\u001B[0m\n\u001B[0;32m    313\u001B[0m         \u001B[1;32mreturn\u001B[0m \u001B[0mwrapper\u001B[0m\u001B[1;33m\u001B[0m\u001B[1;33m\u001B[0m\u001B[0m\n",
      "\u001B[1;32m~\\anaconda3\\envs\\UDEMY_ML_NEW\\lib\\site-packages\\pandas\\core\\frame.py\u001B[0m in \u001B[0;36mset_index\u001B[1;34m(self, keys, drop, append, inplace, verify_integrity)\u001B[0m\n\u001B[0;32m   5449\u001B[0m \u001B[1;33m\u001B[0m\u001B[0m\n\u001B[0;32m   5450\u001B[0m         \u001B[1;32mif\u001B[0m \u001B[0mmissing\u001B[0m\u001B[1;33m:\u001B[0m\u001B[1;33m\u001B[0m\u001B[1;33m\u001B[0m\u001B[0m\n\u001B[1;32m-> 5451\u001B[1;33m             \u001B[1;32mraise\u001B[0m \u001B[0mKeyError\u001B[0m\u001B[1;33m(\u001B[0m\u001B[1;34mf\"None of {missing} are in the columns\"\u001B[0m\u001B[1;33m)\u001B[0m\u001B[1;33m\u001B[0m\u001B[1;33m\u001B[0m\u001B[0m\n\u001B[0m\u001B[0;32m   5452\u001B[0m \u001B[1;33m\u001B[0m\u001B[0m\n\u001B[0;32m   5453\u001B[0m         \u001B[1;32mif\u001B[0m \u001B[0minplace\u001B[0m\u001B[1;33m:\u001B[0m\u001B[1;33m\u001B[0m\u001B[1;33m\u001B[0m\u001B[0m\n",
      "\u001B[1;31mKeyError\u001B[0m: \"None of ['name'] are in the columns\""
     ]
    }
   ],
   "source": [
    "registrations = registrations.set_index('name')"
   ],
   "metadata": {
    "collapsed": false,
    "pycharm": {
     "name": "#%%\n"
    }
   }
  },
  {
   "cell_type": "code",
   "execution_count": 26,
   "outputs": [
    {
     "data": {
      "text/plain": "   reg_id  log_id    name\n1       1       2  Andrew\n3       2       4    Bobo",
      "text/html": "<div>\n<style scoped>\n    .dataframe tbody tr th:only-of-type {\n        vertical-align: middle;\n    }\n\n    .dataframe tbody tr th {\n        vertical-align: top;\n    }\n\n    .dataframe thead th {\n        text-align: right;\n    }\n</style>\n<table border=\"1\" class=\"dataframe\">\n  <thead>\n    <tr style=\"text-align: right;\">\n      <th></th>\n      <th>reg_id</th>\n      <th>log_id</th>\n      <th>name</th>\n    </tr>\n  </thead>\n  <tbody>\n    <tr>\n      <th>1</th>\n      <td>1</td>\n      <td>2</td>\n      <td>Andrew</td>\n    </tr>\n    <tr>\n      <th>3</th>\n      <td>2</td>\n      <td>4</td>\n      <td>Bobo</td>\n    </tr>\n  </tbody>\n</table>\n</div>"
     },
     "execution_count": 26,
     "metadata": {},
     "output_type": "execute_result"
    }
   ],
   "source": [
    "pd.merge(registrations, logins, left_index=True, right_on='name')"
   ],
   "metadata": {
    "collapsed": false,
    "pycharm": {
     "name": "#%%\n"
    }
   }
  },
  {
   "cell_type": "code",
   "execution_count": 39,
   "outputs": [],
   "source": [
    "registrations = registrations.drop('index',axis=1)"
   ],
   "metadata": {
    "collapsed": false,
    "pycharm": {
     "name": "#%%\n"
    }
   }
  },
  {
   "cell_type": "code",
   "execution_count": 41,
   "outputs": [],
   "source": [
    "registrations.columns = ['reg_name', 'reg_id']"
   ],
   "metadata": {
    "collapsed": false,
    "pycharm": {
     "name": "#%%\n"
    }
   }
  },
  {
   "cell_type": "code",
   "execution_count": 45,
   "outputs": [
    {
     "data": {
      "text/plain": "   reg_id  log_id    name\n0       1       2  Andrew\n1       2       4    Bobo",
      "text/html": "<div>\n<style scoped>\n    .dataframe tbody tr th:only-of-type {\n        vertical-align: middle;\n    }\n\n    .dataframe tbody tr th {\n        vertical-align: top;\n    }\n\n    .dataframe thead th {\n        text-align: right;\n    }\n</style>\n<table border=\"1\" class=\"dataframe\">\n  <thead>\n    <tr style=\"text-align: right;\">\n      <th></th>\n      <th>reg_id</th>\n      <th>log_id</th>\n      <th>name</th>\n    </tr>\n  </thead>\n  <tbody>\n    <tr>\n      <th>0</th>\n      <td>1</td>\n      <td>2</td>\n      <td>Andrew</td>\n    </tr>\n    <tr>\n      <th>1</th>\n      <td>2</td>\n      <td>4</td>\n      <td>Bobo</td>\n    </tr>\n  </tbody>\n</table>\n</div>"
     },
     "execution_count": 45,
     "metadata": {},
     "output_type": "execute_result"
    }
   ],
   "source": [
    "pd.merge(registrations, logins, how='inner',left_on='reg_name', right_on='name').drop('reg_name',axis=1)"
   ],
   "metadata": {
    "collapsed": false,
    "pycharm": {
     "name": "#%%\n"
    }
   }
  },
  {
   "cell_type": "code",
   "execution_count": 47,
   "outputs": [],
   "source": [
    "registrations.columns = ['name', 'id']"
   ],
   "metadata": {
    "collapsed": false,
    "pycharm": {
     "name": "#%%\n"
    }
   }
  },
  {
   "cell_type": "code",
   "execution_count": 49,
   "outputs": [],
   "source": [
    "logins.columns = ['id', 'name']"
   ],
   "metadata": {
    "collapsed": false,
    "pycharm": {
     "name": "#%%\n"
    }
   }
  },
  {
   "cell_type": "code",
   "execution_count": 51,
   "outputs": [
    {
     "data": {
      "text/plain": "     name  id_reg  id_log\n0  Andrew       1       2\n1    Bobo       2       4",
      "text/html": "<div>\n<style scoped>\n    .dataframe tbody tr th:only-of-type {\n        vertical-align: middle;\n    }\n\n    .dataframe tbody tr th {\n        vertical-align: top;\n    }\n\n    .dataframe thead th {\n        text-align: right;\n    }\n</style>\n<table border=\"1\" class=\"dataframe\">\n  <thead>\n    <tr style=\"text-align: right;\">\n      <th></th>\n      <th>name</th>\n      <th>id_reg</th>\n      <th>id_log</th>\n    </tr>\n  </thead>\n  <tbody>\n    <tr>\n      <th>0</th>\n      <td>Andrew</td>\n      <td>1</td>\n      <td>2</td>\n    </tr>\n    <tr>\n      <th>1</th>\n      <td>Bobo</td>\n      <td>2</td>\n      <td>4</td>\n    </tr>\n  </tbody>\n</table>\n</div>"
     },
     "execution_count": 51,
     "metadata": {},
     "output_type": "execute_result"
    }
   ],
   "source": [
    "pd.merge(registrations, logins, how='inner', on='name',suffixes=('_reg', '_log'))"
   ],
   "metadata": {
    "collapsed": false,
    "pycharm": {
     "name": "#%%\n"
    }
   }
  }
 ],
 "metadata": {
  "kernelspec": {
   "name": "pycharm-3aaaba9b",
   "language": "python",
   "display_name": "PyCharm (UDEMY_ML_NEW)"
  },
  "language_info": {
   "codemirror_mode": {
    "name": "ipython",
    "version": 2
   },
   "file_extension": ".py",
   "mimetype": "text/x-python",
   "name": "python",
   "nbconvert_exporter": "python",
   "pygments_lexer": "ipython2",
   "version": "2.7.6"
  },
  "pycharm": {
   "stem_cell": {
    "cell_type": "raw",
    "source": [
     "%load_ext jupyter_spaces"
    ],
    "metadata": {
     "collapsed": false
    }
   }
  }
 },
 "nbformat": 4,
 "nbformat_minor": 0
}